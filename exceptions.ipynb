{
 "cells": [
  {
   "cell_type": "code",
   "execution_count": 1,
   "metadata": {},
   "outputs": [
    {
     "name": "stdout",
     "output_type": "stream",
     "text": [
      " no error\n"
     ]
    }
   ],
   "source": [
    "# Error handling using Try and Except\n",
    "\n",
    "try:\n",
    "    f=open('data.txt')\n",
    "    print(\" no error\")\n",
    "except Exception:\n",
    "    print(\"error\")"
   ]
  },
  {
   "cell_type": "code",
   "execution_count": 2,
   "metadata": {},
   "outputs": [
    {
     "name": "stdout",
     "output_type": "stream",
     "text": [
      "[Errno 2] No such file or directory: 'data1.txt'\n",
      "executing finally..\n"
     ]
    }
   ],
   "source": [
    "try:\n",
    "    f=open('data1.txt')\n",
    "    print(\" no error\")\n",
    "except FileNotFoundError as e:\n",
    "    print(e)    # file not found error\n",
    "except Exception:\n",
    "    print(\" An error occured\")\n",
    "else :\n",
    "    print(f.read())\n",
    "    f.close()\n",
    "finally:       # run every time\n",
    "    print(\"executing finally..\")\n"
   ]
  }
 ],
 "metadata": {
  "kernelspec": {
   "display_name": "Python 3",
   "language": "python",
   "name": "python3"
  },
  "language_info": {
   "codemirror_mode": {
    "name": "ipython",
    "version": 3
   },
   "file_extension": ".py",
   "mimetype": "text/x-python",
   "name": "python",
   "nbconvert_exporter": "python",
   "pygments_lexer": "ipython3",
   "version": "3.12.0"
  }
 },
 "nbformat": 4,
 "nbformat_minor": 2
}
