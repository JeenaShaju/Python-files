{
 "cells": [
  {
   "cell_type": "code",
   "execution_count": 1,
   "metadata": {},
   "outputs": [],
   "source": [
    "# regular expression\n",
    "\n",
    "# .  => any character except new line \n",
    "# \\d => digit (0-9)\n",
    "# \\w => word character & underscore (a-z,A-Z,0-9, _)\n",
    "# \\s => white space(space, tab, newline)\n",
    "# \\b => word boundary\n",
    "# ^ => beginning of a String \n",
    "# $ => end of a String \n",
    "\n",
    "# Quantifiers\n",
    "# *  => 0 or More \n",
    "# + => 1 or more \n",
    "# ? => 0 or one \n",
    "# {3}  => to find extact number ( use number)\n",
    "# {3,4} => range of numbers (min , max)\n"
   ]
  },
  {
   "cell_type": "code",
   "execution_count": 2,
   "metadata": {},
   "outputs": [
    {
     "name": "stdout",
     "output_type": "stream",
     "text": [
      "230\n",
      "70 \n"
     ]
    }
   ],
   "source": [
    "# Regular expression\n",
    "\n",
    "import re \n",
    "text = \"New Delhi: The voting for Madhya Pradesh's all 230 assembly seats and Chhattisgarh's 70 seats--in the second phase of the election is underway.\"\n",
    "pattern = re.compile(r'\\w\\d.')\n",
    "matches = pattern.findall(text)\n",
    "for match in matches:\n",
    "    print(match)"
   ]
  },
  {
   "cell_type": "code",
   "execution_count": 3,
   "metadata": {},
   "outputs": [
    {
     "name": "stdout",
     "output_type": "stream",
     "text": [
      "<re.Match object; span=(0, 1), match='N'>\n",
      "<re.Match object; span=(1, 2), match='e'>\n",
      "<re.Match object; span=(2, 3), match='w'>\n",
      "<re.Match object; span=(4, 5), match='D'>\n",
      "<re.Match object; span=(5, 6), match='e'>\n",
      "<re.Match object; span=(6, 7), match='l'>\n",
      "<re.Match object; span=(7, 8), match='h'>\n",
      "<re.Match object; span=(8, 9), match='i'>\n",
      "<re.Match object; span=(11, 12), match='T'>\n",
      "<re.Match object; span=(12, 13), match='h'>\n",
      "<re.Match object; span=(13, 14), match='e'>\n",
      "<re.Match object; span=(15, 16), match='v'>\n",
      "<re.Match object; span=(16, 17), match='o'>\n",
      "<re.Match object; span=(17, 18), match='t'>\n",
      "<re.Match object; span=(18, 19), match='i'>\n",
      "<re.Match object; span=(19, 20), match='n'>\n",
      "<re.Match object; span=(20, 21), match='g'>\n",
      "<re.Match object; span=(22, 23), match='f'>\n",
      "<re.Match object; span=(23, 24), match='o'>\n",
      "<re.Match object; span=(24, 25), match='r'>\n",
      "<re.Match object; span=(26, 27), match='M'>\n",
      "<re.Match object; span=(27, 28), match='a'>\n",
      "<re.Match object; span=(28, 29), match='d'>\n",
      "<re.Match object; span=(29, 30), match='h'>\n",
      "<re.Match object; span=(30, 31), match='y'>\n",
      "<re.Match object; span=(31, 32), match='a'>\n",
      "<re.Match object; span=(33, 34), match='P'>\n",
      "<re.Match object; span=(34, 35), match='r'>\n",
      "<re.Match object; span=(35, 36), match='a'>\n",
      "<re.Match object; span=(36, 37), match='d'>\n",
      "<re.Match object; span=(37, 38), match='e'>\n",
      "<re.Match object; span=(38, 39), match='s'>\n",
      "<re.Match object; span=(39, 40), match='h'>\n",
      "<re.Match object; span=(41, 42), match='s'>\n",
      "<re.Match object; span=(43, 44), match='a'>\n",
      "<re.Match object; span=(44, 45), match='l'>\n",
      "<re.Match object; span=(45, 46), match='l'>\n",
      "<re.Match object; span=(51, 52), match='a'>\n",
      "<re.Match object; span=(52, 53), match='s'>\n",
      "<re.Match object; span=(53, 54), match='s'>\n",
      "<re.Match object; span=(54, 55), match='e'>\n",
      "<re.Match object; span=(55, 56), match='m'>\n",
      "<re.Match object; span=(56, 57), match='b'>\n",
      "<re.Match object; span=(57, 58), match='l'>\n",
      "<re.Match object; span=(58, 59), match='y'>\n",
      "<re.Match object; span=(60, 61), match='s'>\n",
      "<re.Match object; span=(61, 62), match='e'>\n",
      "<re.Match object; span=(62, 63), match='a'>\n",
      "<re.Match object; span=(63, 64), match='t'>\n",
      "<re.Match object; span=(64, 65), match='s'>\n",
      "<re.Match object; span=(66, 67), match='a'>\n",
      "<re.Match object; span=(67, 68), match='n'>\n",
      "<re.Match object; span=(68, 69), match='d'>\n",
      "<re.Match object; span=(70, 71), match='C'>\n",
      "<re.Match object; span=(71, 72), match='h'>\n",
      "<re.Match object; span=(72, 73), match='h'>\n",
      "<re.Match object; span=(73, 74), match='a'>\n",
      "<re.Match object; span=(74, 75), match='t'>\n",
      "<re.Match object; span=(75, 76), match='t'>\n",
      "<re.Match object; span=(76, 77), match='i'>\n",
      "<re.Match object; span=(77, 78), match='s'>\n",
      "<re.Match object; span=(78, 79), match='g'>\n",
      "<re.Match object; span=(79, 80), match='a'>\n",
      "<re.Match object; span=(80, 81), match='r'>\n",
      "<re.Match object; span=(81, 82), match='h'>\n",
      "<re.Match object; span=(83, 84), match='s'>\n",
      "<re.Match object; span=(88, 89), match='s'>\n",
      "<re.Match object; span=(89, 90), match='e'>\n",
      "<re.Match object; span=(90, 91), match='a'>\n",
      "<re.Match object; span=(91, 92), match='t'>\n",
      "<re.Match object; span=(92, 93), match='s'>\n",
      "<re.Match object; span=(95, 96), match='i'>\n",
      "<re.Match object; span=(96, 97), match='n'>\n",
      "<re.Match object; span=(98, 99), match='t'>\n",
      "<re.Match object; span=(99, 100), match='h'>\n",
      "<re.Match object; span=(100, 101), match='e'>\n",
      "<re.Match object; span=(102, 103), match='s'>\n",
      "<re.Match object; span=(103, 104), match='e'>\n",
      "<re.Match object; span=(104, 105), match='c'>\n",
      "<re.Match object; span=(105, 106), match='o'>\n",
      "<re.Match object; span=(106, 107), match='n'>\n",
      "<re.Match object; span=(107, 108), match='d'>\n",
      "<re.Match object; span=(109, 110), match='p'>\n",
      "<re.Match object; span=(110, 111), match='h'>\n",
      "<re.Match object; span=(111, 112), match='a'>\n",
      "<re.Match object; span=(112, 113), match='s'>\n",
      "<re.Match object; span=(113, 114), match='e'>\n",
      "<re.Match object; span=(115, 116), match='o'>\n",
      "<re.Match object; span=(116, 117), match='f'>\n",
      "<re.Match object; span=(118, 119), match='t'>\n",
      "<re.Match object; span=(119, 120), match='h'>\n",
      "<re.Match object; span=(120, 121), match='e'>\n",
      "<re.Match object; span=(122, 123), match='e'>\n",
      "<re.Match object; span=(123, 124), match='l'>\n",
      "<re.Match object; span=(124, 125), match='e'>\n",
      "<re.Match object; span=(125, 126), match='c'>\n",
      "<re.Match object; span=(126, 127), match='t'>\n",
      "<re.Match object; span=(127, 128), match='i'>\n",
      "<re.Match object; span=(128, 129), match='o'>\n",
      "<re.Match object; span=(129, 130), match='n'>\n",
      "<re.Match object; span=(131, 132), match='i'>\n",
      "<re.Match object; span=(132, 133), match='s'>\n",
      "<re.Match object; span=(134, 135), match='u'>\n",
      "<re.Match object; span=(135, 136), match='n'>\n",
      "<re.Match object; span=(136, 137), match='d'>\n",
      "<re.Match object; span=(137, 138), match='e'>\n",
      "<re.Match object; span=(138, 139), match='r'>\n",
      "<re.Match object; span=(139, 140), match='w'>\n",
      "<re.Match object; span=(140, 141), match='a'>\n",
      "<re.Match object; span=(141, 142), match='y'>\n"
     ]
    }
   ],
   "source": [
    "import re \n",
    "text = \"New Delhi: The voting for Madhya Pradesh's all 230 assembly seats and Chhattisgarh's 70 seats--in the second phase of the election is underway.\"\n",
    "pattern = re.compile(r'[a-zA-Z]')\n",
    "matches = pattern.finditer(text)\n",
    "for match in matches:\n",
    "    print(match)"
   ]
  },
  {
   "cell_type": "code",
   "execution_count": 4,
   "metadata": {},
   "outputs": [
    {
     "name": "stdout",
     "output_type": "stream",
     "text": [
      " Delhi\n",
      " The\n",
      " Madhya\n",
      " Pradesh\n",
      " Chhattisgarh\n"
     ]
    }
   ],
   "source": [
    "import re \n",
    "text = \"New Delhi: The voting for Madhya Pradesh's all 230 assembly seats and Chhattisgarh's 70 seats--in the second phase of the election is underway.\"\n",
    "pattern = re.compile(r'\\s[A-Z]\\w+')\n",
    "matches = pattern.findall(text)\n",
    "for match in matches:\n",
    "    print(match)"
   ]
  },
  {
   "cell_type": "code",
   "execution_count": 5,
   "metadata": {},
   "outputs": [
    {
     "name": "stdout",
     "output_type": "stream",
     "text": [
      "a.bc@gmail.com\n",
      "zxy12@yahoo.com\n"
     ]
    }
   ],
   "source": [
    "import re \n",
    "text = \"a.bc@gmail.com and zxy12@yahoo.com\"\n",
    "pattern = re.compile(r'[a-zA-Z0-9.]+@[a-zA-Z]+\\.com')\n",
    "matches = pattern.findall(text)\n",
    "for match in matches:\n",
    "    print(match)"
   ]
  },
  {
   "cell_type": "code",
   "execution_count": 6,
   "metadata": {},
   "outputs": [],
   "source": [
    "# pattern = re.compile(r'[a-zA-Z]')\n",
    "# with open('data.txt','r',encoding='utf=8') as f:\n",
    "#     content = f.read()\n",
    "\n",
    "# matches = pattern.finditer(content)\n",
    "# for match in matches:\n",
    "#     print(match)"
   ]
  }
 ],
 "metadata": {
  "kernelspec": {
   "display_name": "Python 3",
   "language": "python",
   "name": "python3"
  },
  "language_info": {
   "codemirror_mode": {
    "name": "ipython",
    "version": 3
   },
   "file_extension": ".py",
   "mimetype": "text/x-python",
   "name": "python",
   "nbconvert_exporter": "python",
   "pygments_lexer": "ipython3",
   "version": "3.12.0"
  }
 },
 "nbformat": 4,
 "nbformat_minor": 2
}
